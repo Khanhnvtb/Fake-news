{
 "cells": [
  {
   "cell_type": "code",
   "execution_count": 2,
   "metadata": {},
   "outputs": [
    {
     "name": "stderr",
     "output_type": "stream",
     "text": [
      "C:\\Users\\khanh\\AppData\\Local\\Temp\\ipykernel_16452\\1737430963.py:6: DeprecationWarning: executable_path has been deprecated, please pass in a Service object\n",
      "  browser = webdriver.Chrome('chromedriver.exe') #sử dụng google chrome\n"
     ]
    }
   ],
   "source": [
    "import requests\n",
    "from bs4 import BeautifulSoup\n",
    "import csv\n",
    "\n",
    "res = requests.get('https://vnexpress.net/giai-tri/gioi-sao-p4')\n",
    "soup = BeautifulSoup(res.content, 'html.parser')\n",
    "links = soup.select('article.item-news p.description > a')\n",
    "data = []\n",
    "i = 84\n",
    "for link in links:\n",
    "    req = requests.get(link['href'])\n",
    "    sup = BeautifulSoup(req.content, 'html.parser')\n",
    "    title = sup.select('h1.title-detail')\n",
    "    author = sup.select('p.Normal strong')\n",
    "    description = sup.select('.sidebar-1 p.description')\n",
    "    try:\n",
    "        data.append([i, title[0].text, author[0].text, description[0].text, 1])\n",
    "        i += 1\n",
    "    except:\n",
    "        print('Error')\n",
    "\n",
    "with open('GiaiTri.csv', 'a', encoding='utf8', newline='') as file:\n",
    "    writer = csv.writer(file)\n",
    "    writer.writerows(data)\n",
    "    file.close()"
   ]
  },
  {
   "cell_type": "code",
   "execution_count": null,
   "metadata": {},
   "outputs": [],
   "source": [
    "# Lấy 5 trang\n",
    "for index in range(5):\n",
    "    # Khởi tạo request\n",
    "    res = requests.get('https://vnexpress.net/thoi-su' + str(index))\n",
    "    soup = BeautifulSoup(res.content, 'html.parser')\n",
    "    # Lấy tất cả link trong page hiện tại\n",
    "    links = soup.select('article.item-news p.description > a')\n",
    "    data = []\n",
    "    i = 0\n",
    "    # Duyệt mảng links lấy được\n",
    "    for link in links:\n",
    "        req = requests.get(link['href'])\n",
    "        sup = BeautifulSoup(req.content, 'html.parser')\n",
    "        title = sup.select('h1.title-detail')\n",
    "        author = sup.select('p.Normal strong')\n",
    "        description = sup.select('.sidebar-1 p.description')\n",
    "        # Xử lý missing data\n",
    "        # Nếu mất trường author thì thêm vào string rỗng\n",
    "        if(len(author) == 0):\n",
    "            author.append('')\n",
    "        # Nếu mất nội dung chính thì bỏ qua\n",
    "        if(len(description) == 0):\n",
    "            continue\n",
    "        # Nếu mất tiêu đề và có nội dung thì lấy câu đầu tiên của nội dung làm tiêu đề\n",
    "        elif(len(title) == 0):\n",
    "            title.append(description[0].text.partition('.')[0] + '.')\n",
    "        try:\n",
    "            # Thêm vào mảng data\n",
    "            data.append([i, title[0].text, author[0].text, description[0].text, 1])\n",
    "            i += 1\n",
    "        except:\n",
    "            print(len(author))\n",
    "\n",
    "# Xuất ra file csv\n",
    "with open('ThoiSu.csv', 'a', encoding='utf8', newline='') as file:\n",
    "    writer = csv.writer(file)\n",
    "    writer.writerows(data)\n",
    "    file.close()"
   ]
  }
 ],
 "metadata": {
  "kernelspec": {
   "display_name": "Python 3.9.12 ('base')",
   "language": "python",
   "name": "python3"
  },
  "language_info": {
   "codemirror_mode": {
    "name": "ipython",
    "version": 3
   },
   "file_extension": ".py",
   "mimetype": "text/x-python",
   "name": "python",
   "nbconvert_exporter": "python",
   "pygments_lexer": "ipython3",
   "version": "3.9.12"
  },
  "orig_nbformat": 4,
  "vscode": {
   "interpreter": {
    "hash": "8309af08568b1a344b65e36568966bcf6bca60503ceee463ede90b7fdc110b4e"
   }
  }
 },
 "nbformat": 4,
 "nbformat_minor": 2
}
